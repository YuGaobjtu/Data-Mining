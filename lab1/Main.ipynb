{
 "cells": [
  {
   "cell_type": "code",
   "execution_count": 1,
   "id": "dcd611f6",
   "metadata": {},
   "outputs": [],
   "source": [
    "from CompareSets import CompareSets\n",
    "from CompareSignatures import CompareSignatures\n",
    "from DocumentCollection import DocumentCollection\n",
    "from MinHashing import MinHashing\n",
    "from Shingling import Shingling\n",
    "import csv\n",
    "import random\n",
    "import time"
   ]
  },
  {
   "cell_type": "code",
   "execution_count": 2,
   "id": "54ec21e2",
   "metadata": {},
   "outputs": [],
   "source": [
    "#get list from csv file\n",
    "with open('usanews.csv','r', encoding='UTF-8', newline='') as f:\n",
    "    reader = csv.reader(f)\n",
    "    dicts = list(reader)"
   ]
  },
  {
   "cell_type": "code",
   "execution_count": 3,
   "id": "41de3792",
   "metadata": {},
   "outputs": [
    {
     "data": {
      "text/plain": [
       "10"
      ]
     },
     "execution_count": 3,
     "metadata": {},
     "output_type": "execute_result"
    }
   ],
   "source": [
    "len(dicts)"
   ]
  },
  {
   "cell_type": "code",
   "execution_count": 4,
   "id": "915b8ba6",
   "metadata": {},
   "outputs": [],
   "source": [
    "k = 2 #Decide the length of shingles\n",
    "x = 5 #Decide the number of documents for test\n",
    "n = 100 # Decide the length of MinHash vector\n",
    "s = 0.75 #Decide the threshold of Jaccard Similarity\n",
    "bandwidth = 10 #Decide the threshold of LSH test"
   ]
  },
  {
   "cell_type": "code",
   "execution_count": 5,
   "id": "0bf102ac",
   "metadata": {},
   "outputs": [
    {
     "name": "stdout",
     "output_type": "stream",
     "text": [
      "--- 0.6220242977142334 seconds ---\n",
      "Similarity List\n",
      "docID:0, docID:1, Jaccard Similarity:0.053. MinHash Signature Similarity 0.41. LSH: False\n",
      "docID:0, docID:2, Jaccard Similarity:0.121. MinHash Signature Similarity 0.42. LSH: False\n",
      "docID:0, docID:3, Jaccard Similarity:0.011. MinHash Signature Similarity 0.34. LSH: False\n",
      "docID:0, docID:4, Jaccard Similarity:0.04. MinHash Signature Similarity 0.37. LSH: False\n",
      "docID:1, docID:2, Jaccard Similarity:0.072. MinHash Signature Similarity 0.44. LSH: False\n",
      "docID:1, docID:3, Jaccard Similarity:0.006. MinHash Signature Similarity 0.38. LSH: False\n",
      "docID:1, docID:4, Jaccard Similarity:0.024. MinHash Signature Similarity 0.32. LSH: False\n",
      "docID:2, docID:3, Jaccard Similarity:0.011. MinHash Signature Similarity 0.35. LSH: False\n",
      "docID:2, docID:4, Jaccard Similarity:0.029. MinHash Signature Similarity 0.37. LSH: False\n",
      "docID:3, docID:4, Jaccard Similarity:0.013. MinHash Signature Similarity 0.39. LSH: False\n",
      "Similar Pairs\n"
     ]
    }
   ],
   "source": [
    "#Convert list above to an array\n",
    "def getX(x):\n",
    "    data_set = ['']*x\n",
    "    for i in range(x):\n",
    "        data_set[i] = ','.join('%s' %id for id in dicts[i])\n",
    "    return data_set\n",
    "\n",
    "#get random values for Minhashing Class\n",
    "def getRand(n):\n",
    "    A = []\n",
    "    B = []\n",
    "    P = []\n",
    "    for i in range(n):\n",
    "        A.append(random.randrange(3, 2000))\n",
    "        B.append(random.randrange(3, 2000))\n",
    "        P.append(random.randrange(3, 2000))\n",
    "    return A, B, P\n",
    "\n",
    "Values = getRand(n)\n",
    "\n",
    "def getShinglets(documentA, documentB):\n",
    "    #STEP 1 Shingling\n",
    "    shinglingA = Shingling(k, documentA).construct_shinglets()\n",
    "    shinglingB = Shingling(k, documentB).construct_shinglets()\n",
    "    return shinglingA, shinglingB\n",
    "\n",
    "def calculateSimilarityJaccard(documentA, documentB):\n",
    "    #STEP 1 Shingling\n",
    "    shinglingA, shinglingB = getShinglets(documentA, documentB)\n",
    "    #STEP 2 Compare Shingling A and B\n",
    "    return CompareSets(shinglingA, shinglingB).compareHashedShingles()\n",
    "\n",
    "def calculateSimilarityMinHash(documentA, documentB):\n",
    "    shinglingA, shinglingB = getShinglets(documentA, documentB)\n",
    "    minHashSignatureA = MinHashing(Values[0], Values[1], shinglingA, Values[2]).getMinHashSignature(Values[0])\n",
    "    minHashSignatureB = MinHashing(Values[0], Values[1], shinglingB, Values[2]).getMinHashSignature(Values[0])\n",
    "    return CompareSignatures(minHashSignatureA, minHashSignatureB).getMinHashSimilarity()\n",
    "\n",
    "def LSH(documentA, documentB, bandwidth):\n",
    "    shinglingA, shinglingB = getShinglets(documentA, documentB)\n",
    "    minHashSignatureA = MinHashing(Values[0], Values[1], shinglingA, Values[2]).getMinHashSignature(Values[0])\n",
    "    minHashSignatureB = MinHashing(Values[0], Values[1], shinglingB, Values[2]).getMinHashSignature(Values[0])\n",
    "    for i in range(int(len(minHashSignatureA)/bandwidth)):\n",
    "        if (minHashSignatureA[i*bandwidth:(i+1)*bandwidth] == minHashSignatureB[i*bandwidth:(i+1)*bandwidth]):\n",
    "           return True\n",
    "    return False \n",
    "\n",
    "def main():\n",
    "    #Load Data and Process it\n",
    "    #Position in the List determines document ID\n",
    "    start_time = time.time()\n",
    "    documents = DocumentCollection(getX(x)).getDocuments(getX(x))\n",
    "    similarities = []\n",
    "    for i in range(len(documents)):\n",
    "        for j in range(i + 1 , len(documents)):\n",
    "            if(i == j):\n",
    "                continue\n",
    "            simJaccard = calculateSimilarityJaccard(documents[i], documents[j])\n",
    "            simMinHash = calculateSimilarityMinHash(documents[i], documents[j])\n",
    "            LSHtest = LSH(documents[i], documents[j], bandwidth)\n",
    "            similarities.append((i, j, simJaccard, simMinHash, LSHtest))\n",
    "    \n",
    "    print(\"--- %s seconds ---\" % (time.time() - start_time))\n",
    "    \n",
    "    #Print results\n",
    "    print('Similarity List')\n",
    "    for i in range(len(similarities)):\n",
    "        print('docID:{}, docID:{}, Jaccard Similarity:{}. MinHash Signature Similarity {}. LSH: {}'.format(similarities[i][0], similarities[i][1], similarities[i][2], similarities[i][3], similarities[i][4]))\n",
    "    \n",
    "    #Print Similar Pairs\n",
    "    print('Similar Pairs')\n",
    "    for i in range(len(similarities)):\n",
    "        if similarities[i][2] > s and similarities[i][4] is True:\n",
    "            print('docID:{}, docID:{}'.format(similarities[i][0], similarities[i][1]))\n",
    "    \n",
    "    \n",
    "if __name__ == \"__main__\":\n",
    "    main()"
   ]
  },
  {
   "cell_type": "code",
   "execution_count": 8,
   "id": "d5c08ea1",
   "metadata": {},
   "outputs": [
    {
     "name": "stdout",
     "output_type": "stream",
     "text": [
      "--- 3.057786703109741 seconds ---\n",
      "Similarity List\n",
      "docID:0, docID:1, Jaccard Similarity:0.053. MinHash Signature Similarity 0.39. LSH: False\n",
      "docID:0, docID:2, Jaccard Similarity:0.121. MinHash Signature Similarity 0.45. LSH: False\n",
      "docID:0, docID:3, Jaccard Similarity:0.011. MinHash Signature Similarity 0.49. LSH: False\n",
      "docID:0, docID:4, Jaccard Similarity:0.04. MinHash Signature Similarity 0.36. LSH: False\n",
      "docID:0, docID:5, Jaccard Similarity:0.812. MinHash Signature Similarity 0.88. LSH: True\n",
      "docID:0, docID:6, Jaccard Similarity:0.839. MinHash Signature Similarity 0.91. LSH: False\n",
      "docID:0, docID:7, Jaccard Similarity:0.905. MinHash Signature Similarity 0.91. LSH: False\n",
      "docID:0, docID:8, Jaccard Similarity:0.02. MinHash Signature Similarity 0.45. LSH: False\n",
      "docID:0, docID:9, Jaccard Similarity:0.112. MinHash Signature Similarity 0.45. LSH: False\n",
      "docID:1, docID:2, Jaccard Similarity:0.072. MinHash Signature Similarity 0.48. LSH: False\n",
      "docID:1, docID:3, Jaccard Similarity:0.006. MinHash Signature Similarity 0.46. LSH: False\n",
      "docID:1, docID:4, Jaccard Similarity:0.024. MinHash Signature Similarity 0.37. LSH: False\n",
      "docID:1, docID:5, Jaccard Similarity:0.041. MinHash Signature Similarity 0.38. LSH: False\n",
      "docID:1, docID:6, Jaccard Similarity:0.051. MinHash Signature Similarity 0.39. LSH: False\n",
      "docID:1, docID:7, Jaccard Similarity:0.056. MinHash Signature Similarity 0.41. LSH: False\n",
      "docID:1, docID:8, Jaccard Similarity:0.028. MinHash Signature Similarity 0.4. LSH: False\n",
      "docID:1, docID:9, Jaccard Similarity:0.059. MinHash Signature Similarity 0.44. LSH: False\n",
      "docID:2, docID:3, Jaccard Similarity:0.011. MinHash Signature Similarity 0.42. LSH: False\n",
      "docID:2, docID:4, Jaccard Similarity:0.029. MinHash Signature Similarity 0.35. LSH: False\n",
      "docID:2, docID:5, Jaccard Similarity:0.07. MinHash Signature Similarity 0.41. LSH: False\n",
      "docID:2, docID:6, Jaccard Similarity:0.11. MinHash Signature Similarity 0.43. LSH: False\n",
      "docID:2, docID:7, Jaccard Similarity:0.121. MinHash Signature Similarity 0.47. LSH: False\n",
      "docID:2, docID:8, Jaccard Similarity:0.031. MinHash Signature Similarity 0.41. LSH: False\n",
      "docID:2, docID:9, Jaccard Similarity:0.513. MinHash Signature Similarity 0.73. LSH: False\n",
      "docID:3, docID:4, Jaccard Similarity:0.013. MinHash Signature Similarity 0.36. LSH: False\n",
      "docID:3, docID:5, Jaccard Similarity:0.008. MinHash Signature Similarity 0.43. LSH: False\n",
      "docID:3, docID:6, Jaccard Similarity:0.011. MinHash Signature Similarity 0.47. LSH: False\n",
      "docID:3, docID:7, Jaccard Similarity:0.061. MinHash Signature Similarity 0.54. LSH: False\n",
      "docID:3, docID:8, Jaccard Similarity:0.022. MinHash Signature Similarity 0.43. LSH: False\n",
      "docID:3, docID:9, Jaccard Similarity:0.02. MinHash Signature Similarity 0.41. LSH: False\n",
      "docID:4, docID:5, Jaccard Similarity:0.043. MinHash Signature Similarity 0.35. LSH: False\n",
      "docID:4, docID:6, Jaccard Similarity:0.04. MinHash Signature Similarity 0.35. LSH: False\n",
      "docID:4, docID:7, Jaccard Similarity:0.044. MinHash Signature Similarity 0.4. LSH: False\n",
      "docID:4, docID:8, Jaccard Similarity:0.028. MinHash Signature Similarity 0.4. LSH: False\n",
      "docID:4, docID:9, Jaccard Similarity:0.033. MinHash Signature Similarity 0.35. LSH: False\n",
      "docID:5, docID:6, Jaccard Similarity:0.698. MinHash Signature Similarity 0.84. LSH: False\n",
      "docID:5, docID:7, Jaccard Similarity:0.736. MinHash Signature Similarity 0.8. LSH: False\n",
      "docID:5, docID:8, Jaccard Similarity:0.02. MinHash Signature Similarity 0.42. LSH: False\n",
      "docID:5, docID:9, Jaccard Similarity:0.069. MinHash Signature Similarity 0.4. LSH: False\n",
      "docID:6, docID:7, Jaccard Similarity:0.765. MinHash Signature Similarity 0.85. LSH: False\n",
      "docID:6, docID:8, Jaccard Similarity:0.02. MinHash Signature Similarity 0.44. LSH: False\n",
      "docID:6, docID:9, Jaccard Similarity:0.102. MinHash Signature Similarity 0.42. LSH: False\n",
      "docID:7, docID:8, Jaccard Similarity:0.019. MinHash Signature Similarity 0.48. LSH: False\n",
      "docID:7, docID:9, Jaccard Similarity:0.115. MinHash Signature Similarity 0.48. LSH: False\n",
      "docID:8, docID:9, Jaccard Similarity:0.036. MinHash Signature Similarity 0.45. LSH: False\n",
      "Similar Pairs\n",
      "docID:0, docID:5\n"
     ]
    }
   ],
   "source": [
    "k = 2\n",
    "x = 10\n",
    "n = 100\n",
    "s = 0.75\n",
    "bandwidth = 25\n",
    "Values = getRand(n)#Update the random value for MinHashing\n",
    "main()"
   ]
  },
  {
   "cell_type": "code",
   "execution_count": null,
   "id": "3c2faf66",
   "metadata": {},
   "outputs": [],
   "source": []
  }
 ],
 "metadata": {
  "kernelspec": {
   "display_name": "Python 3",
   "language": "python",
   "name": "python3"
  },
  "language_info": {
   "codemirror_mode": {
    "name": "ipython",
    "version": 3
   },
   "file_extension": ".py",
   "mimetype": "text/x-python",
   "name": "python",
   "nbconvert_exporter": "python",
   "pygments_lexer": "ipython3",
   "version": "3.8.8"
  }
 },
 "nbformat": 4,
 "nbformat_minor": 5
}
