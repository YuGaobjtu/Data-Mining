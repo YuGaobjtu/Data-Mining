{
 "cells": [
  {
   "cell_type": "code",
   "execution_count": 1,
   "id": "85ef150b",
   "metadata": {},
   "outputs": [],
   "source": [
    "import scipy.sparse\n",
    "import csv\n",
    "import numpy as np\n",
    "from numpy.linalg import eig\n",
    "import matplotlib.pyplot as plt"
   ]
  },
  {
   "cell_type": "code",
   "execution_count": 39,
   "id": "1a9d0fdd",
   "metadata": {},
   "outputs": [],
   "source": [
    "def getdata(path):\n",
    "    with open(path,'r', encoding='UTF-8', newline='') as f:\n",
    "        reader = csv.reader(f)\n",
    "        dicts = list(reader)\n",
    "    return dicts\n",
    "\n",
    "def buildingmatrix(data):# We build adjacency matrix as well as the Laplacian matrix based on the data\n",
    "    col1 = []\n",
    "    col2 = []\n",
    "    for i in range(0, len(data)):\n",
    "        col1.append(int(data[i][0]))\n",
    "        col2.append(int(data[i][1]))\n",
    "    \n",
    "    # Build adjacency matrix\n",
    "    max_ids = max(max(col1,col2))\n",
    "    admatri = np.zeros((max_ids,max_ids))\n",
    "    for i in range(0,len(col1)):\n",
    "        admatri[col1[i]-1][col2[i]-1] = 1\n",
    "    \n",
    "    # Build Laplacian matrix\n",
    "    Lapmatri = admatri\n",
    "    for i in range(0,max_ids):\n",
    "        for j in range(0,max_ids):\n",
    "            if admatri[i][j] == 1 and i!=j:\n",
    "                Lapmatri[i][i] += 1\n",
    "                Lapmatri[i][j] = -1\n",
    "    \n",
    "    return Lapmatri\n",
    "\n",
    "def fiedlervector(Lapmatrix):# We write it to find the fiedler vector\n",
    "    w,v=eig(Lapmatrix)#w is the eigenvalues while v is the eigen vectors\n",
    "    s = set(w)\n",
    "    k = sorted(s)[1]\n",
    "    #print ('The eigenvalue of Fiedler Vector is:',k)\n",
    "    for i in range(0,len(Lapmatrix)):\n",
    "        if w[i] == k:\n",
    "            #print('The localtion of Fiedler Vector is:', i)\n",
    "            break\n",
    "    fv = v[:,i]\n",
    "\n",
    "    return fv\n",
    "\n",
    "def main(data):\n",
    "    data = getdata(data)\n",
    "    m = buildingmatrix(data)\n",
    "    fv = fiedlervector(m)\n",
    "    \n",
    "    # Visualize the clustering distribution of points\n",
    "    data = sorted(fv)\n",
    "    newdata = np.squeeze(data)\n",
    "    plt.plot(newdata)\n",
    "    plt.show()"
   ]
  },
  {
   "cell_type": "code",
   "execution_count": 40,
   "id": "fde7a206",
   "metadata": {},
   "outputs": [],
   "source": [
    "def clustering(data,a,b):\n",
    "    data = getdata(data)\n",
    "    m = buildingmatrix(data)\n",
    "    fv = fiedlervector(m)\n",
    "    \n",
    "    cluster1 = []\n",
    "    cluster2 = []\n",
    "    for i in range(len(fv)):\n",
    "        if fv[i] <= a:\n",
    "            cluster1.append(i)\n",
    "        elif fv[i] >= b:\n",
    "            cluster2.append(i)\n",
    "    \n",
    "    return cluster1,cluster2"
   ]
  },
  {
   "cell_type": "code",
   "execution_count": 41,
   "id": "171fcb31",
   "metadata": {},
   "outputs": [
    {
     "data": {
      "image/png": "[encoded data removed]",
      "text/plain": [
       "<Figure size 432x288 with 1 Axes>"
      ]
     },
     "metadata": {
      "needs_background": "light"
     },
     "output_type": "display_data"
    },
    {
     "name": "stdout",
     "output_type": "stream",
     "text": [
      "cluster1:[3, 4, 5], cluster2:[0, 1, 2]\n"
     ]
    }
   ],
   "source": [
    "main('test.txt')\n",
    "classify = clustering('test.txt',-0.14,-0.01)\n",
    "print('cluster1:{}, cluster2:{}'.format(classify[0],classify[1]))"
   ]
  },
  {
   "cell_type": "code",
   "execution_count": 42,
   "id": "3fdc9292",
   "metadata": {},
   "outputs": [
    {
     "data": {
      "image/png": "[encoded data removed]",
      "text/plain": [
       "<Figure size 432x288 with 1 Axes>"
      ]
     },
     "metadata": {
      "needs_background": "light"
     },
     "output_type": "display_data"
    },
    {
     "name": "stdout",
     "output_type": "stream",
     "text": [
      "cluster1:[117, 118, 119, 120, 121, 122, 123, 124, 125, 126, 127, 128, 129, 130, 131, 132, 133, 134, 135, 136, 137, 138, 139, 140, 141, 142, 143, 144, 145, 146, 147, 148, 149, 150, 151, 152, 153, 154, 155, 156, 157, 158, 159, 160, 161, 162, 163, 164], cluster2:[0, 1, 2, 3, 4, 5, 6, 7, 8, 9, 10, 11, 12, 13, 14, 15, 16, 17, 18, 19, 20, 21, 22, 23, 24, 25, 26, 27, 28, 29, 30, 31, 32, 33, 34, 35, 36, 37, 38, 39, 40, 41, 42, 43, 44, 45, 46, 47, 48, 49, 50, 51, 52, 53, 54, 55, 56, 57, 58, 59, 60, 61, 62, 63, 64, 65, 66, 67, 68, 69, 70, 71, 72, 73, 74, 75, 76, 77, 78, 79, 80, 81, 82, 83, 84, 85, 86, 87, 88, 89, 90, 91, 92, 93, 94, 95, 96, 97, 98, 99, 100, 101, 102, 103, 104, 105, 106, 107, 108, 109, 110, 111, 112, 113, 114, 115, 116, 165, 166, 167, 168, 169, 170, 171, 172, 173, 174, 175, 176, 177, 178, 179, 180, 181, 182, 183, 184, 185, 186, 187, 188, 189, 190, 191, 192, 193, 194, 195, 196, 197, 198, 199, 200, 201, 202, 203, 204, 205, 206, 207, 208, 209, 210, 211, 212, 213, 214, 215, 216, 217, 218, 219, 220, 221, 222, 223, 224, 225, 226, 227, 228, 229, 230, 231, 232, 233, 234, 235, 236, 237, 238, 239, 240]\n"
     ]
    }
   ],
   "source": [
    "main('example1.dat')\n",
    "classify = clustering('example1.dat',-0.14,-0.01)\n",
    "print('cluster1:{}, cluster2:{}'.format(classify[0],classify[1]))"
   ]
  },
  {
   "cell_type": "code",
   "execution_count": 43,
   "id": "82f7051a",
   "metadata": {},
   "outputs": [
    {
     "data": {
      "image/png": "[encoded data removed]",
      "text/plain": [
       "<Figure size 432x288 with 1 Axes>"
      ]
     },
     "metadata": {
      "needs_background": "light"
     },
     "output_type": "display_data"
    },
    {
     "name": "stdout",
     "output_type": "stream",
     "text": [
      "cluster1:[0, 1, 3, 4, 7, 8, 9, 11, 12, 14, 17, 18, 19, 20, 22, 23, 24, 25, 26, 28, 30, 35, 36, 38, 42, 43, 47, 48, 49, 51, 52, 55, 56, 58, 60, 62, 63, 64, 65, 66, 70, 72, 74, 78, 81, 82, 83, 84, 86, 87, 89, 92, 93, 94, 96], cluster2:[2, 5, 10, 13, 15, 16, 21, 27, 29, 31, 32, 33, 34, 37, 39, 40, 41, 44, 45, 46, 50, 53, 54, 57, 59, 61, 67, 68, 69, 71, 73, 75, 76, 77, 79, 80, 85, 88, 90, 91, 95, 97, 98, 99]\n"
     ]
    }
   ],
   "source": [
    "main('example2.dat')\n",
    "classify = clustering('example2.dat',-0.05,0.07)\n",
    "print('cluster1:{}, cluster2:{}'.format(classify[0],classify[1]))"
   ]
  },
  {
   "cell_type": "code",
   "execution_count": null,
   "id": "609a6e2c",
   "metadata": {},
   "outputs": [],
   "source": []
  }
 ],
 "metadata": {
  "kernelspec": {
   "display_name": "Python 3",
   "language": "python",
   "name": "python3"
  },
  "language_info": {
   "codemirror_mode": {
    "name": "ipython",
    "version": 3
   },
   "file_extension": ".py",
   "mimetype": "text/x-python",
   "name": "python",
   "nbconvert_exporter": "python",
   "pygments_lexer": "ipython3",
   "version": "3.8.8"
  }
 },
 "nbformat": 4,
 "nbformat_minor": 5
}
